{
 "cells": [
  {
   "cell_type": "code",
   "execution_count": null,
   "metadata": {},
   "outputs": [],
   "source": [
    "import random\n",
    "wordlist = ['anjay','zaara','zuck']\n",
    "random_word = random.choice(wordlist)\n",
    "print(f\"Hint guys: {random_word}\")\n",
    "\n",
    "underscore = []\n",
    "\n",
    "for _ in range(0, len(random_word)):\n",
    "    underscore += \"_\"\n",
    "\n",
    "while \"_\" in underscore:\n",
    "\n",
    "    input_user = input(\"what letters bro? \").lower()\n",
    "\n",
    "    for x in range(0, len(random_word)):\n",
    "        if random_word[x] == input_user:\n",
    "            underscore[x] = input_user\n",
    "            \n",
    "    print(underscore)\n",
    "\n",
    "data = \"\".join(underscore)\n",
    "print(f\"Congrats you win, the word is: {data}\")\n"
   ]
  }
 ],
 "metadata": {
  "kernelspec": {
   "display_name": "Python 3",
   "language": "python",
   "name": "python3"
  },
  "language_info": {
   "codemirror_mode": {
    "name": "ipython",
    "version": 3
   },
   "file_extension": ".py",
   "mimetype": "text/x-python",
   "name": "python",
   "nbconvert_exporter": "python",
   "pygments_lexer": "ipython3",
   "version": "3.11.3"
  },
  "orig_nbformat": 4
 },
 "nbformat": 4,
 "nbformat_minor": 2
}
